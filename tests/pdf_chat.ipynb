{
 "cells": [
  {
   "cell_type": "code",
   "execution_count": 5,
   "metadata": {},
   "outputs": [],
   "source": [
    "from dotenv import load_dotenv\n",
    "import os"
   ]
  },
  {
   "cell_type": "code",
   "execution_count": 6,
   "metadata": {},
   "outputs": [
    {
     "data": {
      "text/plain": [
       "True"
      ]
     },
     "execution_count": 6,
     "metadata": {},
     "output_type": "execute_result"
    }
   ],
   "source": [
    "load_dotenv(\"../.env\")"
   ]
  },
  {
   "cell_type": "code",
   "execution_count": 7,
   "metadata": {},
   "outputs": [],
   "source": [
    "KEY = os.getenv(\"KEY\")"
   ]
  },
  {
   "cell_type": "markdown",
   "metadata": {},
   "source": [
    "### First part: Load the document(s) and split"
   ]
  },
  {
   "cell_type": "code",
   "execution_count": 144,
   "metadata": {},
   "outputs": [],
   "source": [
    "from langchain.document_loaders import PyPDFLoader, DirectoryLoader"
   ]
  },
  {
   "cell_type": "code",
   "execution_count": 145,
   "metadata": {},
   "outputs": [
    {
     "name": "stderr",
     "output_type": "stream",
     "text": [
      "100%|██████████| 5/5 [21:09<00:00, 253.81s/it]\n"
     ]
    }
   ],
   "source": [
    "loader = DirectoryLoader('./data/', loader_cls=PyPDFLoader, show_progress=True) \n",
    "pages = loader.load_and_split()"
   ]
  },
  {
   "cell_type": "code",
   "execution_count": 147,
   "metadata": {},
   "outputs": [
    {
     "name": "stdout",
     "output_type": "stream",
     "text": [
      "Content:\n",
      " 1\n",
      "CLIMATE CHANGE 2023\n",
      "Synthesis Report\n",
      "A Report of the Intergovernmental Panel on Climate Change \n",
      "metadata:\n",
      " {'source': 'data/IPCC_AR6_SYR_FullVolume.pdf', 'page': 0}\n",
      "Content:\n",
      " and planetary health can be realised. Prospects for climate resilient development are increased by inclusive processes involving local \n",
      "knowledge and Indigenous Knowledge as well as processes that coo \n",
      "metadata:\n",
      " {'source': 'data/IPCC_AR6_WGII_SummaryForPolicymakers.pdf', 'page': 32}\n"
     ]
    }
   ],
   "source": [
    "pg_no = 0\n",
    "print(f\"Content:\\n {pages[pg_no].page_content[:200]} \\nmetadata:\\n {pages[pg_no].metadata}\")\n",
    "pg_no = -1\n",
    "print(f\"Content:\\n {pages[pg_no].page_content[:200]} \\nmetadata:\\n {pages[pg_no].metadata}\")"
   ]
  },
  {
   "cell_type": "markdown",
   "metadata": {},
   "source": [
    "### Create the embeddings for the splitted doc"
   ]
  },
  {
   "cell_type": "code",
   "execution_count": 1,
   "metadata": {},
   "outputs": [],
   "source": [
    "from langchain.embeddings.sentence_transformer import SentenceTransformerEmbeddings\n",
    "from langchain.vectorstores import Chroma"
   ]
  },
  {
   "cell_type": "code",
   "execution_count": 2,
   "metadata": {},
   "outputs": [],
   "source": [
    "embedding_function = SentenceTransformerEmbeddings(model_name=\"all-MiniLM-L6-v2\")\n",
    "persist_dir = \"db\""
   ]
  },
  {
   "cell_type": "code",
   "execution_count": 174,
   "metadata": {},
   "outputs": [],
   "source": [
    "db = Chroma.from_documents(pages, embedding_function, persist_directory=persist_dir)"
   ]
  },
  {
   "cell_type": "code",
   "execution_count": 151,
   "metadata": {},
   "outputs": [],
   "source": [
    "db.persist()\n",
    "db = None"
   ]
  },
  {
   "cell_type": "code",
   "execution_count": 3,
   "metadata": {},
   "outputs": [],
   "source": [
    "db = Chroma(persist_directory=persist_dir, embedding_function=embedding_function)"
   ]
  },
  {
   "cell_type": "code",
   "execution_count": 5,
   "metadata": {},
   "outputs": [
    {
     "name": "stdout",
     "output_type": "stream",
     "text": [
      "{'page': 1627, 'source': 'data/IPCC_AR6_WGI_FullReport.pdf'}\n",
      "{'page': 1949, 'source': 'data/IPCC_AR6_WGII_FullReport.pdf'}\n",
      "{'page': 1538, 'source': 'data/IPCC_AR6_WGI_FullReport.pdf'}\n",
      "{'page': 219, 'source': 'data/IPCC_AR6_WGII_FullReport.pdf'}\n"
     ]
    }
   ],
   "source": [
    "query = \"What are Observed Changes to Hazards and Extreme Events?\"\n",
    "docs = db.similarity_search(query)\n",
    "for doc in docs:\n",
    "    print(doc.metadata)"
   ]
  },
  {
   "cell_type": "markdown",
   "metadata": {},
   "source": [
    "### QA chain"
   ]
  },
  {
   "cell_type": "code",
   "execution_count": 4,
   "metadata": {},
   "outputs": [],
   "source": [
    "from langchain.chains import RetrievalQA\n",
    "from langchain.chat_models import ChatOpenAI\n",
    "from langchain.prompts import PromptTemplate"
   ]
  },
  {
   "cell_type": "code",
   "execution_count": 8,
   "metadata": {},
   "outputs": [],
   "source": [
    "llm_src = ChatOpenAI(temperature=0, model=\"gpt-4\", openai_api_key=KEY)"
   ]
  },
  {
   "cell_type": "code",
   "execution_count": 9,
   "metadata": {},
   "outputs": [],
   "source": [
    "prompt_template = \"\"\"Use the following pieces of context to answer the question at the end. If you don't know the answer, just say that you don't know, don't try to make up an answer.\n",
    "The answer should be easy to be understood by anyone. Always consider the question to be asked related to climate change. Your source is IPCC reports.\n",
    "\n",
    "{context}\n",
    "\n",
    "Question: {question}\n",
    "Answer:\"\"\"\n",
    "\n",
    "PROMPT = PromptTemplate(\n",
    "    template=prompt_template, input_variables=[\"context\", \"question\"]\n",
    ")\n",
    "chain_type_kwargs = {\"prompt\": PROMPT}"
   ]
  },
  {
   "cell_type": "code",
   "execution_count": 10,
   "metadata": {},
   "outputs": [],
   "source": [
    "retrieval_qa = RetrievalQA.from_chain_type(\n",
    "    llm=llm_src,\n",
    "    chain_type=\"stuff\",\n",
    "    retriever=db.as_retriever(\n",
    "        search_kwargs={'k': 6}\n",
    "    ),\n",
    "    chain_type_kwargs=chain_type_kwargs,\n",
    "    return_source_documents=True,\n",
    ")"
   ]
  },
  {
   "cell_type": "code",
   "execution_count": 11,
   "metadata": {},
   "outputs": [],
   "source": [
    "query = \"How much CO2 a car amits per km?\"\n",
    "result = retrieval_qa({\"query\": query})"
   ]
  },
  {
   "cell_type": "code",
   "execution_count": 17,
   "metadata": {},
   "outputs": [
    {
     "name": "stdout",
     "output_type": "stream",
     "text": [
      "{'page': 77, 'source': 'data/IPCC_AR6_WGIII_FullReport.pdf'}\n"
     ]
    }
   ],
   "source": [
    "print(result[\"source_documents\"][3].metadata)"
   ]
  },
  {
   "cell_type": "code",
   "execution_count": 213,
   "metadata": {},
   "outputs": [
    {
     "name": "stdout",
     "output_type": "stream",
     "text": [
      "{'page': 1068, 'source': 'data/IPCC_AR6_WGIII_FullReport.pdf'}\n",
      "{'page': 59, 'source': 'data/IPCC_AR6_SYR_FullVolume.pdf'}\n",
      "{'page': 243, 'source': 'data/IPCC_AR6_WGIII_FullReport.pdf'}\n",
      "{'page': 77, 'source': 'data/IPCC_AR6_WGIII_FullReport.pdf'}\n",
      "{'page': 319, 'source': 'data/IPCC_AR6_WGI_FullReport.pdf'}\n",
      "{'page': 77, 'source': 'data/IPCC_AR6_WGIII_FullReport.pdf'}\n"
     ]
    }
   ],
   "source": [
    "sources = result[\"source_documents\"]\n",
    "for source in sources:\n",
    "    print(source.metadata)"
   ]
  },
  {
   "cell_type": "code",
   "execution_count": 185,
   "metadata": {},
   "outputs": [
    {
     "name": "stdout",
     "output_type": "stream",
     "text": [
      "{'page': 451, 'source': 'data/IPCC_AR6_WGIII_FullReport.pdf'}\n",
      "{'page': 754, 'source': 'data/IPCC_AR6_WGIII_FullReport.pdf'}\n",
      "{'page': 737, 'source': 'data/IPCC_AR6_WGIII_FullReport.pdf'}\n",
      "{'page': 653, 'source': 'data/IPCC_AR6_WGIII_FullReport.pdf'}\n",
      "(Document(page_content='439\\nMitigation and Development Pathways in the Near to Mid-term Chapter 44\\nproject approvals and construction, and more stringent passive \\nsafety measures, which increases the complexity of systems. After \\nthe Fukushima Daiichi accident in Japan, nuclear programs in several \\ncountries have been phased out or cancelled (Carrara 2020; Huenteler \\net al. 2012; Kharecha and Sato 2019; Hoffman and Durlak 2018). \\nAlso the compatibility of conventional prresurised water reactors and \\nboiling water reactors with large proportion of renewable energy in \\nthe grid it is yet to be fully understood.\\nAccelerated mitigation scenarios offer contrasting views on the \\nshare of nuclear in power generation. In the USA, (Victor et al. 2018) \\nbuild a\\xa0scenario in which nuclear contributes 23% of CO 2 emission \\nreductions needed to reduce GHG emissions by 80% from 2005 levels \\nby 2050. Deep power sector decarbonisation pathways could require \\na\\xa0two-folded increase in nuclear capacity according to (Jayadev et al. \\n2020) for the USA, and nearly a\\xa0ten-fold increase for Canada, but \\nmay be difficult to implement (Vaillancourt et al. 2017). For China to \\nmeet a\\xa01.5°C pathway or achieve carbon neutrality by 2050, nuclear \\nmay represent 14–28% of power generation in 2050 according to \\n(Jiang et al. 2018; China National Renewable Energy Centre 2019; \\nEnergy Transitions Commission and Rocky Mountain Institute 2019). \\nFor South Korea, Hong et al. (2014) and Hong and Brook (2018) find \\nthat increasing nuclear power can help complement renewables in \\ndecarbonising the grid. Similarly, India has put in place a\\xa0three-stage \\nnuclear programme which aims to enhance nuclear power capacity \\nfrom the current level of 6\\xa0 GW to 63 GW by 2032, if fuel supply \\nis ensured (GoI 2015). Nuclear energy is also considered necessary \\nas part of accelerated mitigation pathways in Brazil, although it is \\nnot expected to increase significantly by 2050 even under stringent \\nlow-carbon scenarios (Lucena et al. 2016). France developed its \\nnuclear strategy in response to energy security concerns after the \\n1970s oil crisis, but has committed to reducing nuclear’s share of \\npower generation to 50% by 2035 (Millot et al. 2020). Conversely, \\nsome analysis find deep mitigation pathways, including net zero GHG \\nemissions and 80–90% reduction from 2013 levels, feasible without \\nadditional nuclear power in EU-28 and Japan respectively, but \\nassuming a\\xa0combination of bio- and novel fuels and CCS or land-use \\nbased carbon sinks (Kato and Kurosawa 2019; Duscha et al. 2019).\\nRadically more efficient use of energy than today, including electricity, \\nis a\\xa0complementary set of measures, explored in the following.\\n4.2.5.6 Efficient Cooling, SLCFs and Co-benefits\\nIn warmer climate regions undergoing economic transitions, \\nimproving the energy efficiency of cooling and refrigeration equipment \\nis often important for managing peak electricity demand and can \\nhave co-benefits for climate mitigation as well as SLCF reduction, as \\nexpected in India, Africa, and Southeast Asia in the future.\\nAir conditioner adoption is rising significantly in low- and middle-\\nincome countries as incomes rise and average temperatures increase, \\nincluding in Southeast Asian countries such as Thailand, Indonesia, \\nVietnam, and the Philippines, as well as Brazil, Pakistan, Bangladesh, \\nand Nigeria (Biardeau et al. 2020). Cooling appliances are expected \\nto increase from\\xa0 3.6 billion to\\xa0 9.5 billion by 2050, though up to \\n14 billion could be required to provide adequate cooling for all (Birmingham Energy Institute 2018). Current technology pathways are \\nnot sufficient to deliver universal access to cooling or meet the 2030 \\ntargets under the SDGs, but energy efficiency, including in equipment \\nefficiency like air conditioners, can reduce this demand and help limit \\nadditional emissions that would further exacerbate climate change \\n(Biardeau et al. 2020; Dreyfus et al. 2020; UNEP and IEA 2020). Some', metadata={'page': 451, 'source': 'data/IPCC_AR6_WGIII_FullReport.pdf'}), 0.3586026001591499)\n",
      "(Document(page_content='renewable electricity in Europe. PLoS One, 15(8), e0236958, doi:10.1371/\\njournal.pone.0236958.\\nTrutnevyte, E., 2016: Does cost optimization approximate the real-world energy \\ntransition? Energy, 106, 182–193, doi:10.1016/j.energy.2016.03.038.Tsoutsos, T. et\\xa0al., 2015: Photovoltaics competitiveness in Middle East and \\nNorth Africa countries the European project PV PARITY . Int. J. Sustain. \\nEnergy, 34(3–4), 202–210, doi:10.1080/14786451.2013.863774.\\nTsujikawa, N., S. Tsuchida, and T. Shiotani, 2016: Changes in the Factors \\nInfluencing Public Acceptance of Nuclear Power Generation in Japan Since \\nthe 2011 Fukushima Daiichi Nuclear Disaster. Risk Anal., 36(1), 98–113, \\ndoi:10.1111/risa.12447.\\nTuck, G., M.J. Glendining, P . Smith, J.I. House, and M. Wattenbach, 2006: The \\npotential distribution of bioenergy crops in Europe under present and \\nfuture climate. Biomass and Bioenergy, 30(3), 183–197, doi:10.1016/ \\nj.biombioe. 2005.11.019.\\nTurner, S.W.D., M. Hejazi, S.H. Kim, L. Clarke, and J. Edmonds, 2017: Climate impacts \\non hydropower and consequences for global electricity supply investment \\nneeds. Energy, 141, 2081–2090, doi:10.1016/j.energy.2017.11.089.\\nU.S. Energy Information Administration, 2021: Levelized Costs of New \\nGeneration Resources in the Annual Energy Outlook. Washington: US Energy \\nInformation Administration, 26 pp. https://www.eia.gov/outlooks/aeo/pdf/\\nelectricity_generation.pdf .\\nUeckerdt, F . et\\xa0al., 2021: Potential and risks of hydrogen-based e-fuels in climate \\nchange mitigation. Nat. Clim. Change, 11(5), 384–393, doi:10.1038/s41558-\\n021-01032-7.\\nÜnal, A.B., L. Steg, and J. Granskaya, 2019: ‘To support or not to support, that \\nis the question’. Testing the VBN theory in predicting support for car use \\nreduction policies in Russia. Transp. Res. Part A Policy Pract., 119(October \\n2018), 73–81, doi:10.1016/j.tra.2018.10.042.\\nUNECE, 2020: Guidelines on promoting People-first Public-Private Partnership \\nWaste-to-Energy Projects for the Circular Economy. Oxford Handb. United \\nNations, 14898(November), doi:10.1093/oxfordhb/ 9780199 560103. 003. \\n0007.\\nUnited Nations, 2021: The UN Security Council and Climate Change. UN \\nSecurity Council, New York, NY , USA, 28 pp.\\nUnsal, D.B., T.S. Ustun, S.M.S. Hussain, and A. Onen, 2021: Enhancing \\nCybersecurity in Smart Grids: False Data Injection and Its Mitigation. \\nEnergies, 14(9), doi:10.3390/en14092657.\\nÜrge-Vorsatz, D. et\\xa0al., 2018: Locking in positive climate responses in cities. \\nNat. Clim. Change, 8(3), 174–177, doi:10.1038/s41558-018-0100-6.\\nUstun, T.S., and S.M.S. Hussain, 2019: A Review of Cybersecurity Issues in \\nSmartgrid Communication Networks. 2019 International Conference on \\nPower Electronics, Control and Automation (ICPECA), IEEE, New Delhi, \\nIndia, 6 pp.\\nVadén, T. et\\xa0al., 2019: To continue to burn something? Technological, economic \\nand political path dependencies in district heating in Helsinki, Finland. \\nEnergy Res. Soc. Sci., 58, 101270, doi:10.1016/j.erss.2019.101270.\\nVaillancourt, K., O. Bahn, E. Frenette, and O. Sigvaldason, 2017: Exploring \\ndeep decarbonization pathways to 2050 for Canada using an optimization \\nenergy model framework. Appl. Energy, 195, 774–785, doi:10.1016/ \\nj.apenergy.2017.03.104.\\nVakulchuk, R., I. Overland, and D. Scholten, 2020: Renewable energy \\nand geopolitics: A review. Renew. Sustain. Energy Rev., 122, 109547, \\ndoi:10.1016/ j.rser.2019.109547.\\nValavi, M. and A. Nysveen, 2018: Variable-Speed Operation of Hydropower \\nPlants: A Look at the Past, Present, and Future. IEEE Ind. Appl. Mag., 24(5), \\n18–27, doi:10.1109/MIAS.2017.2740467.\\nValera-Medina, A. et\\xa0al., 2017: Ammonia–methane combustion in tangential \\nswirl burners for gas turbine power generation. Appl. Energy, 185, \\n1362–1371, doi:10.1016/j.apenergy.2016.02.073.\\nVan de Graaf, T., 2013: The Politics and Institutions of global Energy \\nGovernance. Palgrave Macmillan UK, London, 190 pp.\\nvan de Graaf, T. and B. Sovacool, 2020: Global Energy Politics. Polity,', metadata={'page': 754, 'source': 'data/IPCC_AR6_WGIII_FullReport.pdf'}), 0.3494913365949134)\n",
      "(Document(page_content='of the future: Generation and transmission pathways through 2050. Appl. \\nEnergy, 260(November 2019), 114267, doi:10.1016/ j.apenergy. 2019. 114267.\\nJenkins, J. et\\xa0al., 2018a: The benefits of nuclear flexibility in power system \\noperations with renewable energy. Appl. Energy, 222(April), 872–884, \\ndoi:10.1016/j.apenergy.2018.03.002.Jenkins, J.D., M. Luke, and S. Thernstrom, 2018b: Getting to Zero Carbon \\nEmissions in the Electric Power Sector. Joule, 2(12), 2498–2510, \\ndoi:10.1016/j.joule.2018.11.013.\\nJensen, C.B. and J.J. Spoon, 2011: Testing the ‘Party Matters’ Thesis: Explaining \\nProgress towards Kyoto Protocol Targets. Polit. Stud., 59(1), 99–115, \\ndoi:10.1111/j.1467-9248.2010.00852.x.\\nJentsch, M., T. Trost, and M. Sterner, 2014: Optimal Use of Power-to-Gas \\nEnergy Storage Systems in an 85% Renewable Energy Scenario. Energy \\nProcedia, 46, 254–261, doi:10.1016/j.egypro.2014.01.180.\\nJerez, S. et\\xa0al., 2015: The impact of climate change on photovoltaic power \\ngeneration in Europe. Nat. Commun., 6, doi:10.1038/ncomms10014.\\nJewell, J. et\\xa0al., 2016: Comparison and interactions between the long-term \\npursuit of energy independence and climate policies. Nat. Energy, 1(6), \\n16073, doi:10.1038/nenergy.2016.73.\\nJewell, J. et\\xa0al., 2018: Limited emission reductions from fuel subsidy removal \\nexcept in energy-exporting regions. Nature, 554(7691), 229–233, \\ndoi:10.1038/ nature25467.\\nJewell, J., V. Vinichenko, L. Nacke, and A. Cherp, 2019: Prospects for powering \\npast coal. Nat. Clim. Change, 9(8), 592–597, doi:10.1038/s41558-019-\\n0509-6.\\nJiang, K. et\\xa0al., 2018: Transition scenarios of power generation in China under \\nglobal 2°C and 1.5°C targets. Glob. Energy Interconnect., 1(4), 477–486, \\ndoi:10.14171/j.2096-5117.gei.2018.04.008.\\nJiao, F . and B. Xu, 2018: Electrochemical Ammonia Synthesis and Ammonia \\nFuel Cells. Adv. Mater., 31, doi:10.1002/adma.201805173.\\nJin, E. and J.W. Sutherland, 2018: An integrated sustainability model for \\na\\xa0bioenergy system: Forest residues for electricity generation. Biomass and \\nBioenergy, 119, 10–21, doi:10.1016/j.biombioe.2018.09.005.\\nJin, Y ., P . Behrens, A. Tukker, and L. Scherer, 2019: Water use of electricity \\ntechnologies: A global meta-analysis. Renew. Sustain. Energy Rev., 115, \\n109391, doi:10.1016/j.rser.2019.109391.\\nJobin, M. and M. Siegrist, 2018: We choose what we like\\xa0– Affect as a\\xa0driver of \\nelectricity portfolio choice. Energy Policy, 122(August), 736–747, doi:10.1016/  \\nj.enpol.2018.08.027.\\nJobin, M., V.H.M. Visschers, O.P .R. van Vliet, J. Árvai, and M. Siegrist, 2019: \\nAffect or information? Examining drivers of public preferences of future \\nenergy portfolios in Switzerland. Energy Res. Soc. Sci., 52(December 2018), \\n20–29, doi:10.1016/j.erss.2019.01.016.\\nJohnson, D.L., and R.J. Erhardt, 2016: Projected impacts of climate change \\non wind energy density in the United States. Renew. Energy, 85, 66–73, \\ndoi:10.1016/j.renene.2015.06.005.\\nJohnson, N. et\\xa0 al., 2015: Stranded on a\\xa0 low-carbon planet: Implications of \\nclimate policy for the phase-out of coal-based power plants. Technol. \\nForecast. Soc. Change, 90(PA), 89–102, doi:10.1016/j.techfore.2014.02.028.\\nJohnstone, P . and S. Hielscher, 2017: Phasing out coal, sustaining coal \\ncommunities? Living with technological decline in sustainability pathways. \\nExtr. Ind. Soc., 4(3), 457–461, doi:10.1016/j.exis.2017.06.002.\\nJones, C.R., J.R. Eiser, and T.R. Gamble, 2012: Assessing the impact of framing on \\nthe comparative favourability of nuclear power as an electricity generating \\noption in the UK. Energy Policy, 41, 451–465, doi:10.1016/j.enpol. 2011.  \\n11.006.\\nJones, C.R., D. Kaklamanou, W.M. Stuttard, R.L. Radford, and J. Burley, 2015: \\nInvestigating public perceptions of carbon dioxide utilisation (CDU) \\ntechnology: A mixed methods study. Faraday Discuss., 183, 327–347, \\ndoi:10.1039/c5fd00063g.\\nJones, C.R., J. Gaede, S. Ganowski, and I.H. Rowlands, 2018: Understanding lay-', metadata={'page': 737, 'source': 'data/IPCC_AR6_WGIII_FullReport.pdf'}), 0.32997494336400435)\n",
      "(Document(page_content='641\\nEnergy Systems Chapter 66for nuclear energy is higher when people are concerned about energy \\nsecurity, including concerns about the availability of energy and high \\nenergy prices (Groot et\\xa0 al. 2013; Gupta et\\xa0 al. 2019b), and when \\nthey expect local benefit (Wang et\\xa0 al. 2020c). Public support also \\nincreases when trust in managing bodies is higher (de Groot and \\nSteg 2011). Similarly, transparent and participative decision-making \\nprocesses enhance perceived procedural fairness and public support \\n(Sjoberg\\xa02004).\\nBecause of the sheer scale of the investment required (individual \\nprojects can exceed USD10 billion in value), nearly 90% of nuclear \\npower plants under construction are run by state-owned or controlled \\ncompanies, with governments assuming significant part of the risks \\nand costs. For countries that choose nuclear power in their energy \\nportfolio, stable political conditions and support, clear regulatory \\nregimes, and adequate financial framework are crucial for successful \\nand efficient implementation.\\nMany countries have adopted technology-specific policies for \\nlow-carbon energy courses, and these policies influence the \\ncompetitiveness of nuclear power. For example, feed-in-tariffs and \\nfeed-in premiums for renewables widely applied in the EU (Kitzing \\net\\xa0al. 2012) or renewable portfolio standards in the USA (Barbose \\net\\xa0al. 2016) impact wholesale electricity price (leading occasionally to \\nlow or even negative prices), which affects the revenues of existing \\nnuclear and other plants (Bruninx et\\xa0al. 2013; Newbery et\\xa0al. 2018; \\nLesser 2019).\\nNuclear power’s long-term viability may hinge on demonstrating to \\nthe public and investors that there is a\\xa0long-term solution to spent \\nnuclear fuel. Evidence from countries steadily progressing towards \\nfirst final disposals\\xa0– Finland, Sweden and France\\xa0– suggests that \\nbroad political support, coherent nuclear waste policies, and a\\xa0well-\\nmanaged, consensus-based decision-making process are critical \\nfor accelerating this process (Metlay 2016). Proliferation concerns \\nsurrounding nuclear power are related to fuel cycle (i.e.,\\xa0uranium \\nenrichment and spent fuel processing). These processes are \\nimplemented in a\\xa0 very limited number of countries following \\nstrict national and internationals norms and rules, such as the \\nInternational Atomic Energy Agency (IAEA) guidelines, treaties and \\nconventions. Most of the countries that might introduce nuclear \\npower in the future for their climate change mitigation benefits \\ndo not envision developing their own full fuel cycle, significantly \\nreducing any risks that might be linked to proliferation (IAEA \\n2014,\\xa02019).6.4.2.5 Carbon Dioxide Capture, Utilisation and Storage\\nSince AR5, there have been increased efforts to develop novel \\nplatforms that reduce the energy penalty associated with CO 2 capture, \\ndevelop CO 2 utilisation pathways as a\\xa0substitute to geologic storage, \\nand establish global policies to support CCS (high confidence). CCS \\ncan be used within electricity and other sectors. While it increases the \\ncost of electricity, CCS has the potential to contribute significantly to \\nlow-carbon energy system transitions (IPCC 2018).\\nThe theoretical global geologic storage potential is about \\n10,000\\xa0GtCO 2, with more than 80% of this capacity existing in saline \\naquifers (medium confidence). Not all the storage capacity is usable \\nbecause geologic and engineering factors limit the actual storage \\ncapacity to an order of magnitude below the theoretical potential, \\nwhich is still more than the CO 2 storage requirement through 2100 \\nto limit temperature change to 1.5°C (Martin-Roberts et\\xa0 al. 2021) \\n(high confidence). One of the key limiting factors associated with \\ngeologic CO 2 storage is the global distribution of storage capacity \\n(Table\\xa0 6.2). Most of the available storage capacity exists in saline \\naquifers. Capacity in oil and gas reservoirs and coalbed methane', metadata={'page': 653, 'source': 'data/IPCC_AR6_WGIII_FullReport.pdf'}), 0.3100021840574193)\n",
      "(Document(page_content='640\\nChapter 6 Energy Systems6understanding of uranium deposits, their availability, and low prices \\n(IAEA 2005; OECD NEA 2015).\\nThere are several possible nuclear technology options for the period \\nfrom 2030 to 2050 (medium confidence). In addition to electricity, \\nnuclear can also be used to produce low-carbon hydrogen and \\nfreshwater (Kavvadias and Khamis 2014; Kayfeci et\\xa0al. 2019).\\n• Large reactors. The nuclear industry has entered a\\xa0new phase of \\nreactor construction, based on evolutionary designs. These reactors \\nachieve improvements over previous designs through small to \\nmoderate modifications, including improved redundancy, increased \\napplication of passive safety features, and significant improvements \\nto containment design to reduce the risk of a\\xa0major accident (MIT \\n2018). Examples include European\\xa0 – EPR, Korean\\xa0 – APR1400, \\nUSA\\xa0– AP1000, Chinese\\xa0– HPR1000 or Russian\\xa0– VVER-1200.\\n• Long-term operation (LTO) of the current fleet. Continued \\nproduction from nuclear power will depend in part on life \\nextensions of the existing fleet. By the end of 2020, two-\\nthirds of nuclear power reactors will have been operational for \\nover 30\\xa0 years. The design lifetime of most of existing reactors \\nis 30–40\\xa0 years. Engineering assessments have established \\nthat reactors can operate safely for longer if key replaceable \\ncomponents (e.g.,\\xa0 steam generator, mechanical and electrical \\nequipment, instrumentation and control parts) are changed or \\nrefurbished (IAEA 2018). The first lifetime extension considered \\nin most of the countries typically is 10–20 years (IEA 2020j).\\n• Small modular reactors (SMR). There are more than 70 SMR \\ndesigns at different stages of consideration and development, \\nfrom the conceptual phase to licensing and construction of first-\\nof-a-kind facilities (IAEA 2020). Due to smaller unit sizes, the \\nSMRs are expected to have lower total investment costs, although \\nthe cost per\\xa0unit of generation might be higher than conventional \\nlarge reactors (Mignacca and Locatelli 2020). Modularity and off-\\nsite pre-production may allow greater efficiency in construction, \\nshorter delivery times, and overall cost optimisation (IEA 2019c). \\nSMR designs aim to offer an increased load-following capability \\nthat makes them suitable to operate in smaller systems and in \\nsystems with increasing shares of VRE sources. Their market \\ndevelopment by the early 2030s will strongly depend on the \\nsuccessful deployment of prototypes during the 2020s.\\nNuclear power costs vary substantially across countries (high \\nconfidence). First-of-a-kind projects under construction in Northern \\nAmerica and Europe have been marked by delays and costs overruns \\n(Berthelemy and Rangel 2015). Construction times have exceeded \\n13–15 years and cost has surpassed three to four times initial budget \\nestimates (IEA 2020j). In contrast, most of the recent projects in \\nEastern Asia (with construction starts from 2012) were implemented \\nwithin five to six years (IAEA 2021). In addition to region-specific \\nfactors, future nuclear costs will depend on the ability to benefit from \\nthe accumulated experience in controlling the main drivers of cost. \\nThese cost drivers fall into four categories: design maturity; project \\nmanagement; regulatory stability and predictability; and multi-unit \\nand series effects (NEA 2020). With lessons learned from first-of-a-kind \\nprojects, the cost of electricity for new builds are expected to be in the \\nrange of USD42–102\\xa0MWh–1 depending on the region (IEA 2020j).Lifetime extensions are significantly cheaper than new builds and cost \\ncompetitive with other low-carbon technologies. The overnight cost of \\nlifetime extensions is estimated in the range of USD390–630\\xa0kWe–1 \\nfor Europe and North America, and the LCOE in the range of \\nUSD30–36 MWh–1 for extensions of 10–20 years (IEA\\xa02020j).\\nCost-cutting opportunities, such as design standardisation and \\ninnovations in construction approaches, are expected to make SMRs', metadata={'page': 652, 'source': 'data/IPCC_AR6_WGIII_FullReport.pdf'}), 0.2984726186193247)\n",
      "(Document(page_content='Reducing energy demand through low-carbon innovation: A socio-\\ntechnical transitions perspective and thirteen research debates. Energy \\nRes. Soc. Sci., 40 (June 2017), 23–35, doi:10.1016/j.erss.2017.11.003.Giannousakis, A. et al., 2020: How uncertainty in technology costs and carbon \\ndioxide removal availability affect climate mitigation pathways. Energy, \\n216, 119253, doi:10.1016/j.energy.2020.119253.\\nGilbert, A., B.K.\\xa0Sovacool, P .\\xa0Johnstone, and A.\\xa0Stirling, 2017: Cost overruns \\nand financial risk in the construction of nuclear power reactors: A critical \\nappraisal. Energy Policy, 102, 644–649, doi:10.1016/j.enpol.2016.04.001.\\nGillingham, K.T., C.R.\\xa0Knittel, J.\\xa0Li, M.\\xa0Ovaere, and M.\\xa0Reguant, 2020: The Short-\\nrun and Long-run Effects of Covid-19 on Energy and the Environment. \\nJoule, 4(7), 1337–1341, doi:10.1016/j.joule.2020.06.010.\\nGIZ, 2017: Sectoral implementation of nationally determined contributions \\n(NDCs). Deutsche Gesellschaft für Internationale Zusammenarbeit (GIZ) \\nGmbH, Bonn and Eschborn, Germany, https://newclimate.org/2017/08/01/\\nsectoral-implementation-of-nationally-determined-contributions-ndcs/, \\n12\\xa0pp. (Accessed July 12, 2019).\\nGlachant, M. and A.\\xa0Dechezleprêtre, 2017: What role for climate negotiations \\non technology transfer? Clim. Policy, 17(8), 962–981, doi:10.1080/14693\\n062.2016.1222257.\\nGlobal Cement and Concrete Association, 2020: Climate Ambition: \\nGCCA.\\xa0Global Cement and Concrete Association, London, United Kingdom, \\nhttps://gccassociation.org/climate-ambition/ (Accessed October 18, 2021).\\nGlomsrød, S., T.\\xa0Wei, B.\\xa0Aamaas, M.T.\\xa0Lund, and B.H.\\xa0Samset, 2016: A\\xa0warmer \\npolicy for a colder climate: Can China both reduce poverty and cap \\ncarbon emissions? Sci. Total Environ., 568, 236–244, doi:10.1016/j.\\nscitotenv.2016.06.005.\\nGomi, K., K.\\xa0Shimada, and Y .\\xa0Matsuoka, 2010: A low-carbon scenario creation \\nmethod for a local-scale economy and its application in Kyoto city. Energy \\nPolicy, 38(9), 4783–4796, doi:10.1016/j.enpol.2009.07.026.\\nGomi, K., Y .\\xa0Ochi, and Y .\\xa0Matsuoka, 2011: A systematic quantitative backcasting \\non low-carbon society policy in case of Kyoto city. Technol. Forecast. Soc. \\nChange, 78(5), 852–871, doi:10.1016/j.techfore.2011.01.002.\\nGoulder, L.H., M.A.C.\\xa0Hafstead, G.\\xa0Kim, and X.\\xa0Long, 2019: Impacts of a carbon \\ntax across US household income groups: What are the equity-efficiency \\ntrade-offs? J.\\xa0Public Econ., 175, 44–64, doi:10.1016/j.jpubeco.2019.04.002.\\nGovernment of Canada, 2019: Task Force: Just Transition for Canadian \\nCoal Power Workers and Communities. Government of Canada, Ottawa, \\nCanada, https://www.canada.ca/en/environment-climate-change/services/\\nclimate-change/task-force-just-transition.html (Accessed January 8, 2020).\\nGovernment of Costa Rica, 2019: National Decarbonization Plan 2018-\\n2050. Government of Costa Rica, San José, Costa Rica, https://unfccc.int/  \\nsites/default/files/resource/NationalDecarbonizationPlan.pdf (Accessed  \\n1 November 2021).\\nGovernment of India, 2015: India’s Intended Nationally Determined \\nContribution: Working Towards Climate Justice. Ministry of Environment, \\nForest and Climate Change, Government of India, NewDelhi, India,.  \\nhttps://www4.unfccc.int/sites/ndcstaging/PublishedDocuments/\\nIndia%20First/INDIA%20INDC%20TO%20UNFCCC.pdf , 38\\xa0 pp (Accessed  \\n1 November 2021).\\nGovernment of India, 2018: Strategy for New India @ 75. Government of \\nIndia, New Delhi, India https://niti.gov.in/sites/default/files/2019-01/\\nStrategy_for_New_India_0.pdf (Accessed November 1, 2021).\\nGovernment of Spain, 2019: The just transition strategy within the strategic \\nenergy and climate framework. Government of Spain, Madrid, Spain, 20\\xa0pp., \\nhttps://www.miteco.gob.es/en/prensa/etj-english-interactive_tcm38-  \\n505653.pdf (Accessed November 1, 2021).\\nGrafakos, S., K.\\xa0Trigg, M.\\xa0Landauer, L.\\xa0Chelleri, and S.\\xa0Dhakal, 2019: Analytical \\nframework to evaluate the level of integration of climate adaptation \\nand mitigation in cities. Clim. Change, 154(1–2), 87–106, doi:10.1007/', metadata={'page': 497, 'source': 'data/IPCC_AR6_WGIII_FullReport.pdf'}), 0.2878393059148142)\n",
      "(Document(page_content='USD30–36 MWh–1 for extensions of 10–20 years (IEA\\xa02020j).\\nCost-cutting opportunities, such as design standardisation and \\ninnovations in construction approaches, are expected to make SMRs \\ncompetitive against large reactors by 2040 (Rubio and Tricot 2016) \\n(medium confidence). As SMRs are under development, there is \\nsubstantial uncertainty regarding the construction costs. Vendors \\nhave estimated first-of-a-kind LCOEs at USD131–190 MWh–1. Effects \\nof learning for nth-of-a-kind SMR are anticipated to reduce the first-\\nof-a-kind LCOE by 19–32%.\\nDespite low probabilities, the potential for major nuclear accidents \\nexists, and the radiation exposure impacts could be large and long-\\nlasting (Steinhauser et\\xa0 al. 2014). However, new reactor designs \\nwith passive and enhanced safety systems reduce the risk of such \\naccidents significantly (high confidence). The (normal) activity of \\na\\xa0nuclear reactor results in low volumes of radioactive waste, which \\nrequires strictly controlled and regulated disposal. On a\\xa0global scale, \\nroughly 421 kt of spent nuclear fuel have been produced since \\n1971 (IEA 2014). Out of this volume, 2–3% is high-level radioactive \\nwaste, which presents challenges in terms of radiotoxicity and decay \\nlongevity, and ultimately entails permanent disposal.\\nNuclear energy is found to be favourable regarding land occupation \\n(Cheng and Hammond 2017; Luderer et\\xa0 al. 2019) and ecological \\nimpacts (Brook and Bradshaw 2015; Gibon et\\xa0 al. 2017). Similarly, \\nbulk material requirements per\\xa0 unit of energy produced are low \\n(e.g.,\\xa0aluminum, copper, iron, rare earth metals) (Vidal et\\xa0al. 2013; \\nLuderer et\\xa0 al. 2019). Water-intensive inland nuclear power plants \\nmay contribute to localised water stress and competition for water \\nuses. The choice of cooling systems (closed-loop instead of once-\\nthrough) can significantly moderate withdrawal rates of freshwater \\n(Meldrum et\\xa0al. 2013; Fricko et\\xa0al. 2016; Mouratiadou et\\xa0al. 2016; Jin \\net\\xa0al. 2019). Reactors situated on the seashore are not affected by \\nwater scarcity issues (Abousahl et al. 2021). Lifecycle analysis (LCA) \\nstudies suggest that the overall impacts on human health (in terms \\nof disability adjusted life years (DALYs)) from the normal operation \\nof nuclear power plants are substantially lower than those caused \\nby fossil fuel technologies and are comparable to renewable energy \\nsources (Treyer et\\xa0al. 2014; Gibon et\\xa0al. 2017).\\nNuclear power continues to suffer from limited public and political \\nsupport in some countries (high confidence). Public support for \\nnuclear energy is consistently lower than for renewable energy and \\nnatural gas, and in many countries as low as support for energy from \\ncoal and oil (Corner et\\xa0al. 2011; Pampel 2011; Hobman and Ashworth \\n2013). The major nuclear accidents (i.e.,\\xa0Three Mile Island, Chernobyl, \\nand Fukushima) decreased public support (Poortinga et\\xa0 al. 2013; \\nBird et\\xa0al. 2014). The public remains concerned about the safety risks \\nof nuclear power plants and radioactive materials (Pampel 2011; \\nBird\\xa0 et\\xa0 al. 2014; Tsujikawa et\\xa0 al. 2016). At the same time, some \\ngroups see nuclear energy as a\\xa0reliable energy source, beneficial for \\nthe economy and helpful in climate change mitigation. Public support', metadata={'page': 652, 'source': 'data/IPCC_AR6_WGIII_FullReport.pdf'}), 0.28210969474084924)\n",
      "(Document(page_content='716\\nChapter 6 Energy Systems6De Best-Waldhober, M. et\\xa0 al., 2009: Informed public opinions on CCS in \\ncomparison to other mitigation options. Energy Procedia, 1(1), 4795–4802, \\ndoi:10.1016/j.egypro.2009.02.306.\\nDe Cian, E. and I. Sue Wing, 2019: Global Energy Consumption in a\\xa0Warming \\nClimate. Environ. Resour. Econ., 72(2), 365–410, doi:10.1007/s10640-017-\\n0198-4.\\nde Faria, F .A.M., A. Davis, E. Severnini, and P . Jaramillo, 2017: The local socio-\\neconomic impacts of large hydropower plant development in a\\xa0developing \\ncountry. Energy Econ., 67, 533–544, doi:10.1016/j.eneco.2017.08.025.\\nde Groot, J.I.M. and L. Steg, 2011: Psychological Perspectives on the Geological \\nDisposal of Radioactive Waste and Carbon Dioxide. In: Geological Disposal \\nof Carbon Dioxide and Radioactive Waste: A Comparative Assessment \\n[Toth, F .L., (ed.)], Vol. 44 of Advances in Global Change Research, Springer, \\nDordrecht, Netherlands, pp. 339–363.\\nde Groot, J.I.M., L. Steg, and W. Poortinga, 2013: Values, Perceived Risks and \\nBenefits, and Acceptability of Nuclear Energy. Risk Anal., 33(2), 307–317, \\ndoi:10.1111/j.1539-6924.2012.01845.x.\\nde Jong, P . et\\xa0al., 2019: Estimating the impact of climate change on wind \\nand solar energy in Brazil using a\\xa0South American regional climate model. \\nRenew. Energy, 141, 390–401, doi:10.1016/j.renene.2019.03.086.\\nde Lucas, M., M. Ferrer, M.J. Bechard, and A.R. Muñoz, 2012: Griffon vulture \\nmortality at wind farms in southern Spain: Distribution of fatalities and \\nactive mitigation measures. Biol. Conserv., 147(1), 184–189, doi:10.1016/ \\nj.biocon.2011.12.029.\\nDe Sa, A. and S. Al Zubaidy, 2011: Gas turbine performance at varying ambient \\ntemperature. Appl. Therm. Eng., 31(14), 2735–2739, doi:10.1016/j.appl \\nthermaleng.2011.04.045.\\nde Sisternes, F .J., J.D. Jenkins, and A. Botterud, 2016: The value of energy \\nstorage in decarbonizing the electricity sector. Appl. Energy, 175, 368–379, \\ndoi:10.1016/j.apenergy.2016.05.014.\\nde Wild-Scholten, M.J., 2013: Energy payback time and carbon footprint \\nof commercial photovoltaic systems. Sol. Energy Mater. Sol. Cells, 119, \\n296–305, doi:10.1016/j.solmat.2013.08.037.\\nDeAngelo, J. et\\xa0 al., 2021: Energy systems in scenarios at net-zero CO2 \\nemissions. Nat. Commun., 12(1), 6096, doi:10.1038/s41467-021-26356-y.\\nDeason, W., 2018: Comparison of 100% renewable energy system scenarios \\nwith a\\xa0 focus on flexibility and cost. Renew. Sustain. Energy Rev., 82, \\n3168–3178, doi:10.1016/J.RSER.2017.10.026.\\nDeetjen, T.A. and I.L. Azevedo, 2020: Climate and Health Benefits of Rapid Coal-\\nto-Gas Fuel Switching in the U.S. Power Sector Offset Methane Leakage and \\nProduction Cost Increases. Environ. Sci. Technol., 54(18), 11494–11505, \\ndoi:10.1021/acs.est.9b06499.\\nDehghani-Sanij, A.R., E. Tharumalingam, M.B. Dusseault, and R. Fraser, 2019: \\nStudy of energy storage systems and environmental challenges of batteries. \\nRenew. Sustain. Energy Rev., 104, 192–208, doi:10.1016/j.rser.2019.01.023.\\nDelgado, R., T.B. Wild, R. Arguello, L. Clarke, and G. Romero, 2020: Options \\nfor Colombia’s mid-century deep decarbonization strategy. Energy Strateg. \\nRev., 32, 100525, doi:10.1016/j.esr.2020.100525.\\nDelmas, M.A., M. Fischlein, and O.I. Asensio, 2013: Information strategies and \\nenergy conservation behavior: A meta-analysis of experimental studies from \\n1975 to 2012. Energy Policy, 61, 729–739, doi:10.1016/j.enpol.2013.05.109.\\nDel Rio, P ., 2017: Why does the combination of the European Union Emissions \\nTrading Scheme and a\\xa0renewable energy target makes economic sense? \\nRenew. Sustain. Energy Rev., 74, 824–834, doi:10.1016/j.rser.2017.01.122.\\nDemski, C., C. Butler, K.A. Parkhill, A. Spence, and N.F . Pidgeon, 2015: Public \\nvalues for energy system change. Glob. Environ. Change, 34, 59–69, \\ndoi:10.1016/j.gloenvcha.2015.06.014.\\nDemski, C., A. Spence, and N. Pidgeon, 2017: Effects of exemplar scenarios on \\npublic preferences for energy futures using the my2050 scenario-building', metadata={'page': 728, 'source': 'data/IPCC_AR6_WGIII_FullReport.pdf'}), 0.27300791421752757)\n",
      "(Document(page_content='1–11, doi:10.1016/j.ijggc.2017.12.011.\\nMignacca, B. and G. Locatelli, 2020: Economics and finance of Small Modular \\nReactors: A systematic review and research agenda. Renew. Sustain. \\nEnergy Rev., 118, 109519, doi:10.1016/j.rser.2019.109519.Mikunda, T. et\\xa0 al., 2021: Assessing Interactions between Carbon Capture \\nand Storage and the Sustainable Development Goals. 15th International \\nConference on Greenhouse Gas Control Technologies, GHGT-15, Abu Dhabi, \\nUAE, pp. 1–10.\\nMileva, A., J. Johnston, J.H. Nelson, and D.M. Kammen, 2016: Power system \\nbalancing for deep decarbonization of the electricity sector. Appl. Energy, \\n162, 1001–1009, doi:10.1016/j.apenergy.2015.10.180.\\nMilinski, M., D. Semmann, H.J. Krambeck, and J. Marotzke, 2006: Stabilizing \\nthe Earth’s climate is not a\\xa0losing game: Supporting evidence from public \\ngoods experiments. Proc. Natl. Acad. Sci. U. S. A., 103(11), 3994–3998, \\ndoi:10.1073/pnas.0504902103.\\nMiller, L.M. et\\xa0 al., 2015: Two methods for estimating limits to large-scale \\nwind power generation. Proc. Natl. Acad. Sci., 112(36), 11169–11174, \\ndoi:10.1073/pnas.1408251112.\\nMilligan, M. et\\xa0 al., 2015: Review and Status of Wind Integration and \\nTransmission in the United States: Key Issues and Lessons Learned. National \\nRenewable Energy Laboratory, Golden, CO, USA, 48 pp.\\nMills, A.D., T. Levin, R. Wiser, J. Seel, and A. Botterud, 2020: Impacts of variable \\nrenewable energy on wholesale markets and generating assets in the United \\nStates: A review of expectations and evidence. Renew. Sustain. Energy Rev., \\n120, 109670, doi:10.1016/j.rser.2019.109670.\\nMillstein, D., and S. Menon, 2011: Regional climate consequences of large-\\nscale cool roof and photovoltaic array deployment. Environ. Res. Lett., 6(3), \\ndoi:10.1088/1748-9326/6/3/034001.\\nMillstein, D. et\\xa0al., 2021: Solar and wind grid system value in the United States: \\nThe effect of transmission congestion, generation profiles, and curtailment. \\nJoule, 5(7), 1749–1775, doi:10.1016/J.JOULE.2021.05.009.\\nMinx, J.C. et\\xa0 al., 2021: A comprehensive and synthetic dataset for global, \\nregional, and national greenhouse gas emissions by sector 1970–2018 with \\nan extension to 2019. Earth Syst. Sci. Data, 13(11), 5213–5252, doi:10.5194/\\nessd–13-5213-2021.\\nMishnaevsky, L., 2021: Sustainable End-of-Life Management of Wind Turbine \\nBlades: Overview of Current and Coming Solutions. Materials (Basel)., 14(5), \\n1124, doi:10.3390/ma14051124.\\nMIT, 2018: The future of nuclear energy in a\\xa0carbon-constrained world. MIT, \\nMA, USA, 272 pp.\\nMitchell, J.W., 2013: Power line failures and catastrophic wildfires under \\nextreme weather conditions. Eng. Fail. Anal., 35, 726–735, doi:10.1016/j.eng  \\nfailanal.2013.07.006.\\nMoemken, J., M. Reyers, H. Feldmann, and J.G. Pinto, 2018: Future Changes of Wind \\nSpeed and Wind Energy Potentials in EURO-CORDEX Ensemble Simulations. \\nJ. Geophys. Res. Atmos., 123(12), 6373–6389, doi:10.1029/2018JD028473.\\nMohammadi, M. and I. Harjunkoski, 2020: Performance analysis of waste-to-\\nenergy technologies for sustainable energy generation in integrated supply \\nchains. Comput. Chem. Eng., 140, 106905, doi:10.1016/j.compchem eng. \\n2020. 106905.\\nMolino, A., V. Larocca, S. Chianese, and D. Musmarra, 2018: Biofuels Production \\nby Biomass Gasification: A Review. Energies, 11(4), 811, doi:10.3390/en  \\n11040811.\\nMonforti-Ferrario, F ., A. Kona, E. Peduzzi, D. Pernigotti, and E. Pisoni, 2018: \\nThe impact on air quality of energy saving measures in the major cities \\nsignatories of the Covenant of Mayors initiative. Environ. Int., 118, 222–234, \\ndoi:10.1016/j.envint.2018.06.001.\\nMontoya, J.H., C. Tsai, A. Vojvodic, and J.K. Nørskov, 2015: The challenge \\nof electrochemical ammonia synthesis: A new perspective on the role \\nof\\xa0nitrogen scaling relations. ChemSusChem, 8(13), 2180–2186, doi:10.1002/\\ncssc.201500322.\\nMontoya, J.H. et\\xa0al., 2017: Materials for solar fuels and chemicals. Nat. Mater., \\n16(1), 70–81, doi:10.1038/nmat4778.', metadata={'page': 743, 'source': 'data/IPCC_AR6_WGIII_FullReport.pdf'}), 0.24502771730920636)\n",
      "(Document(page_content='745\\nEnergy Systems Chapter 66Wienchol, P ., A. Szlęk, and M. Ditaranto, 2020: Waste-to-energy technology \\nintegrated with carbon capture\\xa0– Challenges and opportunities. Energy, \\n198, 117352, doi:10.1016/J.ENERGY .2020.117352.\\nWiese, C., A. Larsen, and L.-L. Pade, 2018: Interaction effects of energy efficiency \\npolicies: a\\xa0review. Energy Effic., 11, doi:10.1007/s12053-018-9659-z.\\nWilliams, J.H. et\\xa0 al., 2012: The Technology Path to Deep Greenhouse Gas \\nEmissions Cuts by 2050: The Pivotal Role of Electricity. Science, 335(6064), \\n53–59, doi:10.1126/science.1208365.\\nWilliams, J.H. et\\xa0al., 2014: Pathways to Deep Decarbonization in the United \\nStates. Sustainable Development Solutions Network, New York, NY , USA, \\n200 pp.\\nWilliams, J.H. et\\xa0al., 2021a: Carbon-Neutral Pathways for the United States. AGU \\nAdv., 2(1), e2020AV000284-e2020AV000284, doi:10.1029/2020AV000284.\\nWilliams, J.P ., A. Regehr, and M. Kang, 2021b: Methane Emissions from \\nAbandoned Oil and Gas Wells in Canada and the United States. Environ. \\nSci. Technol., 55(1), 563–570, doi:10.1021/acs.est.0c04265.\\nWilliams, P .J.L.B. and L.M.L. Laurens, 2010: Microalgae as biodiesel & biomass \\nfeedstocks: Review & analysis of the biochemistry, energetics & economics. \\nEnergy Environ. Sci., 3(5), 554–590, doi:10.1039/b924978h.\\nWiloso, E.I., R. Heijungs, G. Huppes, and K. Fang, 2016: Effect of biogenic \\ncarbon inventory on the life cycle assessment of bioenergy: challenges to \\nthe neutrality assumption. J. Clean. Prod., 125, 78–85, doi:10.1016/j.jclepro.  \\n2016.03.096.\\nWiser, R. et\\xa0al., 2021: Expert elicitation survey predicts 37% to 49% declines \\nin wind energy costs by 2050. Nat. Energy, 6(5), 555–565, doi:10.1038/\\ns41560-021-00810-z.\\nWiser, R.H., A. Mills, J. Seel, T. Levin, and A. Botterud, 2017: Impacts of Variable \\nRenewable Energy on Bulk Power System Assets, Pricing, and Costs. \\nLawrence Berkeley National Laboratory, Berkeley, CA, USA, pp. 1–105.\\nWohland, J., M. Reyers, J. Weber, and D. Witthaut, 2017: More homogeneous \\nwind conditions under strong climate change decrease the potential for inter-\\nstate balancing of electricity in Europe. Earth Syst. Dyn., 8(4), 1047–1060, \\ndoi:10.5194/esd-8-1047-2017.\\nWohland, J., M. Reyers, C. Märker, and D. Witthaut, 2018: Natural wind \\nvariability triggered drop in German redispatch volume and costs from 2015 \\nto 2016. PLoS One, 13, e0190707, doi:10.1371/journal.pone.0190707.\\nWohland, J., N. Eddine Omrani, N. Keenlyside, and D. Witthaut, 2019a: \\nSignificant multidecadal variability in German wind energy generation. \\nWind Energy Sci., 4(3), 515–526, doi:10.5194/wes-4-515-2019.\\nWohland, J., N. Omrani, D. Witthaut, and N.S. Keenlyside, 2019b: Inconsistent \\nWind Speed Trends in Current Twentieth Century Reanalyses. J. Geophys. \\nRes. Atmos., 124(4), 1931–1940, doi:10.1029/2018JD030083.\\nWohlfahrt, G., E. Tomelleri, and A. Hammerle, 2021: The albedo–climate \\npenalty of hydropower reservoirs. Nat. Energy, 6(4), 372–377, doi:10.1038/\\ns41560-021-00784-y.\\nWolak, F .A., 2011: Do residential customers respond to hourly prices? Evidence \\nfrom a\\xa0 dynamic pricing experiment. Am. Econ. Rev., 101(3), 83–87, \\ndoi:10.1257/aer.101.3.83.\\nWolsink, M., 2020: Distributed energy systems as common goods: Socio-\\npolitical acceptance of renewables in intelligent microgrids. Renew. Sustain. \\nEnergy Rev., 127, 109841, doi:10.1016/j.rser.2020.109841.\\nWolske, K.S. and P .C. Stern, 2018: Contributions of psychology to limiting \\nclimate change: Opportunities through consumer behavior. Elsevier Inc., \\nNew York, NY , USA, 127–160 pp.\\nWolske, K.S., P .C. Stern, and T. Dietz, 2017: Explaining interest in adopting \\nresidential solar photovoltaic systems in the United States: Toward an \\nintegration of behavioral theories. Energy Res. Soc. Sci., 25, 134–151, \\ndoi:10.1016/ j.erss.2016.12.023.\\nWolske, K.S., K.T. Gillingham, and P .W. Schultz, 2020: Peer influence on \\nhousehold energy behaviours. Nat. Energy, 5(3), 202–212, doi:10.1038/', metadata={'page': 757, 'source': 'data/IPCC_AR6_WGIII_FullReport.pdf'}), 0.24332161288148535)\n"
     ]
    }
   ],
   "source": [
    "docs = db.similarity_search(query, kwargs={'k':3})\n",
    "docs2 = db.similarity_search_with_relevance_scores(query, k=10)\n",
    "for doc in docs:\n",
    "    print(doc.metadata)\n",
    "for doc in docs2:\n",
    "    print(doc)"
   ]
  }
 ],
 "metadata": {
  "kernelspec": {
   "display_name": "Python 3",
   "language": "python",
   "name": "python3"
  },
  "language_info": {
   "codemirror_mode": {
    "name": "ipython",
    "version": 3
   },
   "file_extension": ".py",
   "mimetype": "text/x-python",
   "name": "python",
   "nbconvert_exporter": "python",
   "pygments_lexer": "ipython3",
   "version": "3.11.5"
  }
 },
 "nbformat": 4,
 "nbformat_minor": 2
}
